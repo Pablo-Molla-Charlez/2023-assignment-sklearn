{
 "cells": [
  {
   "cell_type": "markdown",
   "metadata": {},
   "source": [
    "## K-Nearest Neighbors (BaseEstimator, ClassifierMixin)"
   ]
  },
  {
   "cell_type": "markdown",
   "metadata": {},
   "source": [
    "Para entender por qué se obtienen las etiquetas predichas [0, 1] en el ejemplo, repasemos cada paso y veamos cómo se llega a estas predicciones:\n",
    "\n",
    "Matriz de Distancia:\n",
    "\n",
    "$$ [[1.         1.         2.23606798]\n",
    " [2.23606798 1.         1.        ]] $$\n",
    "\n",
    "Esta matriz muestra las distancias entre cada muestra de prueba $(X_test)$ y cada muestra de entrenamiento $(X_train)$. Para $X_test[0]$, las distancias a las muestras de entrenamiento son $[1, 1, 2.23606798]$, y para $X_test[1]$, las distancias son $[2.23606798, 1, 1]$.\n",
    "\n",
    "Índices de las Posiciones Ordenadas:\n",
    "\n",
    "$$ [[0 1 2]\n",
    " [1 2 0]] $$\n",
    "Aquí, los índices están ordenados por distancia ascendente para cada muestra de prueba. Para $X_test[0]$, el orden de índices de las muestras más cercanas a más lejanas en X_train es $[0, 1, 2]$. Para $X_test[1]$, es $[1, 2, 0]$.\n",
    "\n",
    "Tomar los Primeros 2 Índices:\n",
    "\n",
    "$$ [[0 1]\n",
    " [1 2]] $$\n",
    "Dado que n_neighbors es 2, solo consideramos los índices de las dos muestras más cercanas en X_train para cada muestra en $X_test$. Para $X_test[0]$, las muestras más cercanas son las ubicadas en los índices $[0, 1]$ de X_train, y para $X_test[1]$, son $[1, 2]$.\n",
    "\n",
    "Seleccionar las Etiquetas y_train Más Cercanas:\n",
    "\n",
    "$$ [[0 1]\n",
    " [1 0]] $$\n",
    "Basándonos en los índices de las muestras más cercanas, seleccionamos sus etiquetas correspondientes. Para $X_test[0]$, las etiquetas de las muestras más cercanas son $[0, 1]$. Para $X_test[1]$, las etiquetas son $[1, 0]$.\n",
    "\n",
    "Predicciones:\n",
    "\n",
    "Para $X_test[0]$, las etiquetas de las muestras más cercanas son $[0, 1]$. La etiqueta más común (la moda) entre estas es 0 (ya que no hay una mayoría clara, se elige la primera encontrada, que es 0).\n",
    "Para $X_test[1]$, las etiquetas de las muestras más cercanas son $[1, 0]$. La etiqueta más común entre estas es 1 (por la misma razón que en el caso anterior).\n",
    "Por lo tanto, las etiquetas predichas son $[0, 1]$, lo que significa que el modelo predice que la primera muestra de prueba ($X_test[0]$) pertenece a la clase 0, y la segunda muestra de prueba ($X_test[1]$) pertenece a la clase 1."
   ]
  },
  {
   "cell_type": "code",
   "execution_count": 12,
   "metadata": {},
   "outputs": [
    {
     "name": "stdout",
     "output_type": "stream",
     "text": [
      "Distance Matrix:\n",
      " [[1.         1.         2.23606798]\n",
      " [2.23606798 1.         1.        ]] \n",
      "\n",
      "Distance sorted positions:\n",
      " [[0 1 2]\n",
      " [1 2 0]] \n",
      "\n",
      "Slice the 2 first:\n",
      " [[0 1]\n",
      " [1 2]] \n",
      "\n",
      "Selecting the Y_train closest:\n",
      " [[0 1]\n",
      " [1 0]] \n",
      "\n",
      "Predicted labels: [0 1]\n",
      "Actual Labels: [0 0]\n"
     ]
    }
   ],
   "source": [
    "import numpy as np\n",
    "from sklearn.metrics.pairwise import pairwise_distances\n",
    "from collections import Counter\n",
    "\n",
    "# Example training data (features and labels)\n",
    "X_train = np.array([[1, 2], [2, 3], [3, 4]])\n",
    "y_train = np.array([0, 1, 0])\n",
    "\n",
    "# Example test data\n",
    "X_test = np.array([[2, 2], [3, 3]])\n",
    "y_test = np.array([0, 0])\n",
    "\n",
    "# Number of neighbors to consider\n",
    "n_neighbors = 2\n",
    "\n",
    "# Compute pairwise distances from test data to training data\n",
    "dist_matrix = pairwise_distances(X_test, X_train)\n",
    "print(\"Distance Matrix:\\n\", dist_matrix, \"\\n\")\n",
    "\n",
    "# Get indices of nearest neighbors for each test data point\n",
    "dist_sort_pos = np.argsort(dist_matrix, axis=1)\n",
    "print(\"Distance sorted positions:\\n\", dist_sort_pos, \"\\n\")\n",
    "\n",
    "dist_sort_pos_n_neighbors = dist_sort_pos[:, :n_neighbors]\n",
    "print(\"Slice the 2 first:\\n\", dist_sort_pos_n_neighbors, \"\\n\")\n",
    "\n",
    "# Gather the labels of the nearest neighbors\n",
    "y_closest = y_train[dist_sort_pos_n_neighbors]\n",
    "print(\"Selecting the Y_train closest:\\n\", y_closest, \"\\n\")\n",
    "\n",
    "# Predict the label for each test data point\n",
    "y_pred = [max(Counter(row), key=Counter(row).get) for row in y_closest]\n",
    "\n",
    "# Output the predictions\n",
    "print(\"Predicted labels:\", np.array(y_pred))\n",
    "print(\"Actual Labels:\", y_test)\n"
   ]
  },
  {
   "cell_type": "code",
   "execution_count": 13,
   "metadata": {},
   "outputs": [
    {
     "name": "stdout",
     "output_type": "stream",
     "text": [
      "Accuracy: 0.5\n"
     ]
    }
   ],
   "source": [
    "def score(y_true, y_pred):\n",
    "    \"\"\"Calculate the accuracy of predictions.\n",
    "\n",
    "    Parameters\n",
    "    ----------\n",
    "    y_true : ndarray, shape (n_samples,)\n",
    "        True labels.\n",
    "    y_pred : ndarray, shape (n_samples,)\n",
    "        Predicted labels.\n",
    "\n",
    "    Returns\n",
    "    -------\n",
    "    score : float\n",
    "        Accuracy of the predictions.\n",
    "    \"\"\"\n",
    "    correct = (y_true == y_pred).sum()\n",
    "    return correct / len(y_true)\n",
    "\n",
    "# Calculate the accuracy\n",
    "accuracy = score(y_test, np.array(y_pred))\n",
    "print(\"Accuracy:\", accuracy)"
   ]
  },
  {
   "cell_type": "markdown",
   "metadata": {},
   "source": [
    "## MONTHLY SPLIT"
   ]
  },
  {
   "cell_type": "code",
   "execution_count": 28,
   "metadata": {},
   "outputs": [],
   "source": [
    "import pytest\n",
    "import numpy as np\n",
    "import pandas as pd\n",
    "from numpy.testing import assert_array_equal\n",
    "\n",
    "from sklearn.utils.estimator_checks import check_estimator\n",
    "from sklearn.model_selection import train_test_split\n",
    "from sklearn.utils import shuffle\n",
    "from sklearn.datasets import make_classification\n",
    "from sklearn.neighbors import KNeighborsClassifier\n",
    "\n",
    "from sklearn_questions import KNearestNeighbors\n",
    "#from sklearn_questions import MonthlySplit\n",
    "\n",
    "\n",
    "date = pd.date_range(start='2020-01-01', end=\"2023-01-01\", freq='D')\n",
    "n_samples = len(date)\n",
    "X = pd.DataFrame(range(n_samples), index=date, columns=['val'])\n",
    "y = pd.DataFrame(\n",
    "    np.array([i % 2 for i in range(n_samples)]),\n",
    "    index=date\n",
    "    )\n",
    "X = X.rename_axis('Date').reset_index()\n"
   ]
  },
  {
   "cell_type": "code",
   "execution_count": 46,
   "metadata": {},
   "outputs": [],
   "source": [
    "import pandas as pd\n",
    "from sklearn.model_selection import BaseCrossValidator\n",
    "from pandas.api.types import is_datetime64_any_dtype\n",
    "\n",
    "class MonthlySplit(BaseCrossValidator):\n",
    "    def __init__(self, time_col='index'):  # noqa: D107\n",
    "        self.time_col = time_col\n",
    "\n",
    "    def get_n_splits(self, X, y=None, groups=None):\n",
    "        X = X.reset_index()\n",
    "\n",
    "        if not is_datetime64_any_dtype(X[self.time_col]):\n",
    "            raise ValueError(\"Not in a datetimeFormat\")\n",
    "\n",
    "        date = X[self.time_col]\n",
    "        date_y_m = date.apply(lambda x: str(x.year) + str(x.month))\n",
    "\n",
    "        return date_y_m.unique().shape[0] - 1\n",
    "\n",
    "    def split(self, X, y, groups=None):\n",
    "        X = X.reset_index()\n",
    "        X = X.sort_values(by=self.time_col)\n",
    "        n_splits = self.get_n_splits(X, y, groups)\n",
    "        date = X[self.time_col]\n",
    "        date_y_m = date.apply(lambda x: str(x.year) + str(x.month)).unique()\n",
    "        for i in range(n_splits):\n",
    "            year, month = int(date_y_m[i][0:4]), int(date_y_m[i][4:])\n",
    "            train_idx = X[\n",
    "                (date.dt.year == year) & (date.dt.month == month)\n",
    "                ].index.to_numpy()\n",
    "            year, month = int(date_y_m[i+1][0:4]), int(date_y_m[i+1][4:])\n",
    "            test_idx = X[\n",
    "                (date.dt.year == year) & (date.dt.month == month)\n",
    "                ].index.to_numpy()\n",
    "\n",
    "            yield train_idx, test_idx\n",
    "\n",
    "\n"
   ]
  },
  {
   "cell_type": "code",
   "execution_count": null,
   "metadata": {},
   "outputs": [],
   "source": []
  }
 ],
 "metadata": {
  "kernelspec": {
   "display_name": "Python 3",
   "language": "python",
   "name": "python3"
  },
  "language_info": {
   "codemirror_mode": {
    "name": "ipython",
    "version": 3
   },
   "file_extension": ".py",
   "mimetype": "text/x-python",
   "name": "python",
   "nbconvert_exporter": "python",
   "pygments_lexer": "ipython3",
   "version": "3.10.8"
  }
 },
 "nbformat": 4,
 "nbformat_minor": 2
}
